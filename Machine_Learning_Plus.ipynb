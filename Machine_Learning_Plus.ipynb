{
 "cells": [
  {
   "cell_type": "markdown",
   "metadata": {},
   "source": [
    "## 1. Introduction to Numpy"
   ]
  },
  {
   "cell_type": "markdown",
   "metadata": {},
   "source": [
    "Numpy is the most basic and a powerful package for working with data in python."
   ]
  },
  {
   "cell_type": "markdown",
   "metadata": {},
   "source": [
    "## 2. How to create a numpy array?"
   ]
  },
  {
   "cell_type": "code",
   "execution_count": 5,
   "metadata": {},
   "outputs": [
    {
     "name": "stdout",
     "output_type": "stream",
     "text": [
      "[1 2 3 4 5]\n",
      "<class 'numpy.ndarray'>\n",
      "[11 12 13 14 15]\n"
     ]
    }
   ],
   "source": [
    "import numpy as np\n",
    "list1 = [1,2,3,4,5]\n",
    "arrid = np.array(list1)\n",
    "\n",
    "print(arrid)\n",
    "print(type(arrid))\n",
    "\n",
    "plus = arrid + 10\n",
    "print(plus)"
   ]
  },
  {
   "cell_type": "code",
   "execution_count": 6,
   "metadata": {},
   "outputs": [
    {
     "name": "stdout",
     "output_type": "stream",
     "text": [
      "[[1 2 4]\n",
      " [4 5 6]\n",
      " [7 8 9]]\n"
     ]
    }
   ],
   "source": [
    "list2 = [[1,2,4], [4,5,6], [7,8,9]]\n",
    "arr2d = np.array(list2)\n",
    "print(arr2d)"
   ]
  },
  {
   "cell_type": "code",
   "execution_count": 7,
   "metadata": {},
   "outputs": [
    {
     "name": "stdout",
     "output_type": "stream",
     "text": [
      "[[1. 2. 4.]\n",
      " [4. 5. 6.]\n",
      " [7. 8. 9.]]\n"
     ]
    }
   ],
   "source": [
    "arr2d_f = np.array(list2, dtype = float)\n",
    "print(arr2d_f)"
   ]
  },
  {
   "cell_type": "code",
   "execution_count": 8,
   "metadata": {},
   "outputs": [
    {
     "name": "stdout",
     "output_type": "stream",
     "text": [
      "[[1 2 4]\n",
      " [4 5 6]\n",
      " [7 8 9]]\n"
     ]
    }
   ],
   "source": [
    "print(arr2d_f.astype('int'))"
   ]
  },
  {
   "cell_type": "code",
   "execution_count": 9,
   "metadata": {},
   "outputs": [
    {
     "name": "stdout",
     "output_type": "stream",
     "text": [
      "[['1' '2' '4']\n",
      " ['4' '5' '6']\n",
      " ['7' '8' '9']]\n"
     ]
    }
   ],
   "source": [
    "To_str = (arr2d_f.astype('int').astype('str'))\n",
    "print(To_str)"
   ]
  },
  {
   "cell_type": "code",
   "execution_count": 10,
   "metadata": {},
   "outputs": [
    {
     "name": "stdout",
     "output_type": "stream",
     "text": [
      "[ True  True  True  True  True]\n"
     ]
    }
   ],
   "source": [
    "arr2d_b = np.array([1,2,3,4,5], dtype= 'bool')\n",
    "print(arr2d_b)"
   ]
  },
  {
   "cell_type": "code",
   "execution_count": 16,
   "metadata": {},
   "outputs": [
    {
     "name": "stdout",
     "output_type": "stream",
     "text": [
      "[1 'One' 2 'Two']\n",
      "<class 'numpy.ndarray'>\n"
     ]
    }
   ],
   "source": [
    "arrid_obj = np.array([1, 'One', 2, 'Two'], dtype= object)\n",
    "print(arrid_obj)\n",
    "print(type(arrid_obj))"
   ]
  },
  {
   "cell_type": "code",
   "execution_count": 14,
   "metadata": {},
   "outputs": [
    {
     "name": "stdout",
     "output_type": "stream",
     "text": [
      "[1, 'One', 2, 'Two']\n",
      "<class 'list'>\n"
     ]
    }
   ],
   "source": [
    "arrid_obj_pylist = arrid_obj.tolist()\n",
    "print(arrid_obj_pylist)\n",
    "print(type(arrid_obj_pylist))"
   ]
  },
  {
   "cell_type": "markdown",
   "metadata": {},
   "source": [
    "## 3. How to inspect the size and shape of a numpy array?"
   ]
  },
  {
   "cell_type": "code",
   "execution_count": 18,
   "metadata": {},
   "outputs": [
    {
     "name": "stdout",
     "output_type": "stream",
     "text": [
      "[[1. 2. 3. 5.]\n",
      " [4. 5. 6. 5.]\n",
      " [7. 8. 9. 5.]]\n"
     ]
    }
   ],
   "source": [
    "list3 = [[1,2,3,5], [4,5,6,5], [7,8,9,5]]\n",
    "arr2 = np.array(list3, dtype = float)\n",
    "print(arr2)"
   ]
  },
  {
   "cell_type": "code",
   "execution_count": 30,
   "metadata": {},
   "outputs": [
    {
     "name": "stdout",
     "output_type": "stream",
     "text": [
      "shape (3, 4)\n",
      "Data Type float64\n",
      "Size  12\n",
      "Num Dimentions 2\n"
     ]
    }
   ],
   "source": [
    "print('shape ' + str(arr2.shape))\n",
    "print('Data Type ' + str(arr2.dtype))\n",
    "print('Size ', str(arr2.size))\n",
    "print('Num Dimentions', str(arr2.ndim))\n"
   ]
  },
  {
   "cell_type": "markdown",
   "metadata": {},
   "source": [
    "## 4. How to extract specific items from an array?"
   ]
  },
  {
   "cell_type": "code",
   "execution_count": 47,
   "metadata": {},
   "outputs": [
    {
     "name": "stdout",
     "output_type": "stream",
     "text": [
      "[[1. 2.]\n",
      " [4. 5.]]\n"
     ]
    }
   ],
   "source": [
    "arr2_ext = arr2[:2, :2]\n",
    "print(arr2_ext)"
   ]
  },
  {
   "cell_type": "code",
   "execution_count": 59,
   "metadata": {},
   "outputs": [
    {
     "name": "stdout",
     "output_type": "stream",
     "text": [
      "[5. 5. 6. 5. 7. 8. 9. 5.]\n",
      "[1. 2. 3.]\n"
     ]
    }
   ],
   "source": [
    "b = arr2 > 4\n",
    "c = arr2 < 4\n",
    "print(arr2[b])\n",
    "print(arr2[c])"
   ]
  },
  {
   "cell_type": "markdown",
   "metadata": {},
   "source": [
    "## 4.1 How to reverse the rows and the whole array?"
   ]
  },
  {
   "cell_type": "code",
   "execution_count": 64,
   "metadata": {},
   "outputs": [
    {
     "name": "stdout",
     "output_type": "stream",
     "text": [
      "[[7. 8. 9. 5.]\n",
      " [4. 5. 6. 5.]\n",
      " [1. 2. 3. 5.]]\n"
     ]
    },
    {
     "data": {
      "text/plain": [
       "array([[1., 2., 3., 5.],\n",
       "       [4., 5., 6., 5.],\n",
       "       [7., 8., 9., 5.]])"
      ]
     },
     "execution_count": 64,
     "metadata": {},
     "output_type": "execute_result"
    }
   ],
   "source": [
    "# Reverse only the row positions\n",
    "rev = arr2[::-1,]\n",
    "print(rev)\n",
    "arr2"
   ]
  },
  {
   "cell_type": "code",
   "execution_count": 65,
   "metadata": {},
   "outputs": [
    {
     "name": "stdout",
     "output_type": "stream",
     "text": [
      "[[5. 9. 8. 7.]\n",
      " [5. 6. 5. 4.]\n",
      " [5. 3. 2. 1.]]\n"
     ]
    }
   ],
   "source": [
    "# Reverse the row and column positions\n",
    "rev_rc = arr2[::-1, ::-1]\n",
    "print(rev_rc)"
   ]
  },
  {
   "cell_type": "code",
   "execution_count": 68,
   "metadata": {},
   "outputs": [
    {
     "name": "stdout",
     "output_type": "stream",
     "text": [
      "[[5. 3. 2. 1.]\n",
      " [5. 6. 5. 4.]\n",
      " [5. 9. 8. 7.]]\n"
     ]
    },
    {
     "data": {
      "text/plain": [
       "array([[1., 2., 3., 5.],\n",
       "       [4., 5., 6., 5.],\n",
       "       [7., 8., 9., 5.]])"
      ]
     },
     "execution_count": 68,
     "metadata": {},
     "output_type": "execute_result"
    }
   ],
   "source": [
    "# Reverse the column\n",
    "rev_c = arr2[::, ::-1]\n",
    "print(rev_c)\n",
    "arr2"
   ]
  },
  {
   "cell_type": "markdown",
   "metadata": {},
   "source": [
    "## 4.2 How to represent missing values and infinite?"
   ]
  },
  {
   "cell_type": "code",
   "execution_count": 71,
   "metadata": {},
   "outputs": [
    {
     "name": "stdout",
     "output_type": "stream",
     "text": [
      "[[ 1.  2.  3.  5.]\n",
      " [ 4. nan inf  5.]\n",
      " [ 7.  8. inf inf]]\n"
     ]
    }
   ],
   "source": [
    "missing = arr2\n",
    "missing[1,1] = np.nan\n",
    "missing[1,2] = np.inf\n",
    "missing[2,3] = np.inf\n",
    "print(missing)"
   ]
  },
  {
   "cell_type": "code",
   "execution_count": 75,
   "metadata": {},
   "outputs": [
    {
     "name": "stdout",
     "output_type": "stream",
     "text": [
      "[[ 1.  2.  3.  5.]\n",
      " [ 4. -1. -1.  5.]\n",
      " [ 7.  8. -1. -1.]]\n"
     ]
    }
   ],
   "source": [
    "missing_bool = np.isnan(missing) |  np.isinf(missing)\n",
    "missing[missing_bool] = -1\n",
    "print(missing)"
   ]
  },
  {
   "cell_type": "markdown",
   "metadata": {},
   "source": [
    "## 4.3 How to compute mean, min, max on the ndarray?"
   ]
  },
  {
   "cell_type": "code",
   "execution_count": 78,
   "metadata": {},
   "outputs": [
    {
     "name": "stdout",
     "output_type": "stream",
     "text": [
      "Mean value is  2.5833333333333335\n",
      "Max value is  8.0\n",
      "Min value is  -1.0\n"
     ]
    }
   ],
   "source": [
    "# mean, max and min\n",
    "print('Mean value is ' , str(arr2.mean()))\n",
    "print('Max value is ', str(arr2.max()))\n",
    "print('Min value is ', str(arr2.min()))"
   ]
  },
  {
   "cell_type": "code",
   "execution_count": 85,
   "metadata": {},
   "outputs": [
    {
     "name": "stdout",
     "output_type": "stream",
     "text": [
      "Column wise min  [ 1. -1. -1. -1.]\n",
      "Row wise min  [ 1. -1. -1. -1.]\n",
      "[ 1.  3.  6. 11. 15. 14. 13. 18. 25. 33. 32. 31.]\n"
     ]
    }
   ],
   "source": [
    "# Row wise and column wise min\n",
    "print('Column wise min ', str(np.amin(arr2,axis=0)))\n",
    "print('Row wise min ', str(np.amin(arr2, axis=0)))\n",
    "\n",
    "# Cumulative Sum\n",
    "\n",
    "print(np.cumsum(arr2))"
   ]
  },
  {
   "cell_type": "markdown",
   "metadata": {},
   "source": [
    "## 5. How to create a new array from an existing array?"
   ]
  },
  {
   "cell_type": "code",
   "execution_count": 123,
   "metadata": {},
   "outputs": [
    {
     "name": "stdout",
     "output_type": "stream",
     "text": [
      "[[100.   2.   3.   5.]\n",
      " [  4.  -1.  -1.   5.]\n",
      " [  7.   8.  -1.  -1.]]\n"
     ]
    }
   ],
   "source": [
    "arr2a = arr2[:2,:2]\n",
    "arr2a[:1,:1] = 100\n",
    "print(arr2)"
   ]
  },
  {
   "cell_type": "code",
   "execution_count": 122,
   "metadata": {},
   "outputs": [
    {
     "name": "stdout",
     "output_type": "stream",
     "text": [
      "[[101.   2.]\n",
      " [  4.  -1.]]\n"
     ]
    }
   ],
   "source": [
    "arr2b = arr2[:2, :2].copy()\n",
    "arr2b[:1, :1] = 101\n",
    "print(arr2b)"
   ]
  },
  {
   "cell_type": "markdown",
   "metadata": {},
   "source": [
    "## 6. Reshaping and Flattening Multidimensional arrays"
   ]
  },
  {
   "cell_type": "code",
   "execution_count": 121,
   "metadata": {},
   "outputs": [
    {
     "name": "stdout",
     "output_type": "stream",
     "text": [
      "[[200.   2.   3.]\n",
      " [  5.   4.  -1.]\n",
      " [ -1.   5.   7.]\n",
      " [  8.  -1.  -1.]]\n"
     ]
    }
   ],
   "source": [
    "# Reshape a 3x4 array to 4x3 array\n",
    "\n",
    "print(arr2.reshape(4,3))"
   ]
  },
  {
   "cell_type": "markdown",
   "metadata": {},
   "source": [
    "## 6.1 What is the difference between flatten() and ravel()?"
   ]
  },
  {
   "cell_type": "code",
   "execution_count": 109,
   "metadata": {},
   "outputs": [
    {
     "name": "stdout",
     "output_type": "stream",
     "text": [
      "[100.   2.   3.   5.   4.  -1.  -1.   5.   7.   8.  -1.  -1.]\n"
     ]
    }
   ],
   "source": [
    "# Flatten it to a 1d array\n",
    "print(arr2.flatten())"
   ]
  },
  {
   "cell_type": "code",
   "execution_count": 120,
   "metadata": {},
   "outputs": [
    {
     "name": "stdout",
     "output_type": "stream",
     "text": [
      "[[200.   2.   3.   5.]\n",
      " [  4.  -1.  -1.   5.]\n",
      " [  7.   8.  -1.  -1.]]\n"
     ]
    }
   ],
   "source": [
    "# Changing the flattened array does not change parent\n",
    "b1 = arr2.flatten()\n",
    "b1[0] = 200\n",
    "print(arr2)"
   ]
  },
  {
   "cell_type": "code",
   "execution_count": 119,
   "metadata": {},
   "outputs": [
    {
     "name": "stdout",
     "output_type": "stream",
     "text": [
      "[[200.   2.   3.   5.]\n",
      " [  4.  -1.  -1.   5.]\n",
      " [  7.   8.  -1.  -1.]]\n"
     ]
    }
   ],
   "source": [
    "# Changing the raveled array changes the parent also.\n",
    "b2 = arr2.ravel()\n",
    "b2[0] = 200\n",
    "print(arr2)"
   ]
  },
  {
   "cell_type": "markdown",
   "metadata": {},
   "source": [
    "## 7. How to create sequences, repetitions and random numbers using numpy?"
   ]
  },
  {
   "cell_type": "code",
   "execution_count": 156,
   "metadata": {},
   "outputs": [
    {
     "name": "stdout",
     "output_type": "stream",
     "text": [
      "[ 2  4  6  8 10 12 14 16 18 20 22 24 26 28 30]\n",
      "[ 1  2  3  4  5  6  7  8  9 10]\n",
      "[20 18 16 14 12 10  8  6  4  2]\n",
      "[50 48 46 44 42 40 38 36 34 32 30]\n"
     ]
    }
   ],
   "source": [
    "print(np.arange(2,31,2))\n",
    "print(np.arange(1,11))\n",
    "print(np.arange(20,0,-2))\n",
    "print(np.arange(50,28,-2))"
   ]
  },
  {
   "cell_type": "code",
   "execution_count": 159,
   "metadata": {},
   "outputs": [
    {
     "name": "stdout",
     "output_type": "stream",
     "text": [
      "[ 1  6 11 17 22 28 33 39 44 50]\n"
     ]
    }
   ],
   "source": [
    "x = np.linspace(start=1, stop=50, num=10, dtype=int)\n",
    "print(x)"
   ]
  },
  {
   "cell_type": "code",
   "execution_count": 170,
   "metadata": {},
   "outputs": [
    {
     "name": "stdout",
     "output_type": "stream",
     "text": [
      "[1.00e+01 2.78e+06 7.74e+11 2.15e+17 5.99e+22 1.67e+28 4.64e+33 1.29e+39\n",
      " 3.59e+44 1.00e+50]\n"
     ]
    }
   ],
   "source": [
    "np.set_printoptions(precision= 2)\n",
    "y = np.logspace(start=1, stop=50, num=10, base=10)\n",
    "print(y)"
   ]
  },
  {
   "cell_type": "code",
   "execution_count": 175,
   "metadata": {},
   "outputs": [
    {
     "name": "stdout",
     "output_type": "stream",
     "text": [
      "[[0 0 0 0 0]\n",
      " [0 0 0 0 0]\n",
      " [0 0 0 0 0]\n",
      " [0 0 0 0 0]\n",
      " [0 0 0 0 0]]\n"
     ]
    }
   ],
   "source": [
    "print(np.zeros([5,5], dtype=int))"
   ]
  },
  {
   "cell_type": "code",
   "execution_count": 173,
   "metadata": {},
   "outputs": [
    {
     "name": "stdout",
     "output_type": "stream",
     "text": [
      "[[1 1 1 1 1]\n",
      " [1 1 1 1 1]\n",
      " [1 1 1 1 1]\n",
      " [1 1 1 1 1]\n",
      " [1 1 1 1 1]]\n"
     ]
    }
   ],
   "source": [
    "z = np.ones([5,5], dtype=int)\n",
    "print(z)"
   ]
  },
  {
   "cell_type": "markdown",
   "metadata": {},
   "source": [
    "## 7.1 How to create repeating sequences?\n",
    "### .repeat() , .tile()"
   ]
  },
  {
   "cell_type": "code",
   "execution_count": 184,
   "metadata": {},
   "outputs": [
    {
     "name": "stdout",
     "output_type": "stream",
     "text": [
      "[1 2 3 1 2 3 1 2 3 1 2 3 1 2 3 1 2 3 1 2 3 1 2 3 1 2 3 1 2 3]\n",
      "[1 1 1 1 1 1 1 1 1 1 2 2 2 2 2 2 2 2 2 2 3 3 3 3 3 3 3 3 3 3]\n"
     ]
    }
   ],
   "source": [
    "# Repeat whole of 'a' two times\n",
    "a = [1,2,3]\n",
    "print(np.tile(a,10))\n",
    "\n",
    "# Repeat each element of 'a' two times\n",
    "print(np.repeat(a,10))"
   ]
  },
  {
   "cell_type": "markdown",
   "metadata": {},
   "source": [
    "## 7.2 How to generate random numbers?"
   ]
  },
  {
   "cell_type": "code",
   "execution_count": 193,
   "metadata": {},
   "outputs": [
    {
     "name": "stdout",
     "output_type": "stream",
     "text": [
      "[[0.1  0.67]\n",
      " [0.11 0.27]]\n"
     ]
    }
   ],
   "source": [
    "print(np.random.rand(2,2))"
   ]
  },
  {
   "cell_type": "code",
   "execution_count": 192,
   "metadata": {},
   "outputs": [
    {
     "name": "stdout",
     "output_type": "stream",
     "text": [
      "[[ 0.31  0.37]\n",
      " [-0.46  1.63]]\n"
     ]
    }
   ],
   "source": [
    "print(np.random.randn(2,2))"
   ]
  },
  {
   "cell_type": "code",
   "execution_count": 214,
   "metadata": {},
   "outputs": [
    {
     "name": "stdout",
     "output_type": "stream",
     "text": [
      "[[95 75 86 78]\n",
      " [51 16 19 88]\n",
      " [78 56 32  8]\n",
      " [43 76 66 57]]\n"
     ]
    }
   ],
   "source": [
    "print(np.random.randint(0, 100, size=[4,4]))"
   ]
  },
  {
   "cell_type": "code",
   "execution_count": 225,
   "metadata": {},
   "outputs": [
    {
     "name": "stdout",
     "output_type": "stream",
     "text": [
      "0.05347255961761843\n"
     ]
    }
   ],
   "source": [
    "# One random number between [0,1]\n",
    "print(np.random.random())"
   ]
  },
  {
   "cell_type": "code",
   "execution_count": 235,
   "metadata": {},
   "outputs": [
    {
     "name": "stdout",
     "output_type": "stream",
     "text": [
      "[[0.31 0.27]\n",
      " [0.26 0.61]]\n"
     ]
    }
   ],
   "source": [
    "# Random numbers between [0,1) of shape 2,2\n",
    "print(np.random.random(size=[2,2]))"
   ]
  },
  {
   "cell_type": "code",
   "execution_count": 252,
   "metadata": {},
   "outputs": [
    {
     "name": "stdout",
     "output_type": "stream",
     "text": [
      "['i' 'u' 'a' 'e' 'a' 'u' 'u' 'o' 'a' 'u']\n"
     ]
    }
   ],
   "source": [
    "# Pick 10 items from a given list, with equal probability\n",
    "print(np.random.choice(['a','e','i','o','u'], size = 10))"
   ]
  },
  {
   "cell_type": "code",
   "execution_count": 273,
   "metadata": {},
   "outputs": [
    {
     "name": "stdout",
     "output_type": "stream",
     "text": [
      "['o' 'a' 'o' 'e' 'o' 'o' 'o' 'a' 'o' 'i']\n"
     ]
    }
   ],
   "source": [
    "# Pick 10 items from a given list with a predefined probability 'p'\n",
    "print(np.random.choice(['a','e','i','o','u'], size=10, p=[0.3, .1, 0.1, 0.4, 0.1]))\n"
   ]
  },
  {
   "cell_type": "code",
   "execution_count": 282,
   "metadata": {},
   "outputs": [
    {
     "name": "stdout",
     "output_type": "stream",
     "text": [
      "[[0.54 0.28]\n",
      " [0.42 0.84]]\n"
     ]
    }
   ],
   "source": [
    "# Create the random state\n",
    "rn = np.random.RandomState(100)\n",
    "# Create random numbers between [0,1) of shape 2,2\n",
    "print(rn.rand(2,2))"
   ]
  },
  {
   "cell_type": "code",
   "execution_count": 298,
   "metadata": {},
   "outputs": [
    {
     "name": "stdout",
     "output_type": "stream",
     "text": [
      "[[0.54 0.28]\n",
      " [0.42 0.84]]\n"
     ]
    }
   ],
   "source": [
    "np.random.seed(100)\n",
    "print(np.random.rand(2,2))"
   ]
  },
  {
   "cell_type": "markdown",
   "metadata": {},
   "source": [
    "## 7.3 How to get the unique items and the counts?"
   ]
  },
  {
   "cell_type": "code",
   "execution_count": 300,
   "metadata": {},
   "outputs": [
    {
     "name": "stdout",
     "output_type": "stream",
     "text": [
      "[8 8 3 7 7 0 4 2 5 2]\n"
     ]
    }
   ],
   "source": [
    "np.random.seed(100)\n",
    "arr_rand = np.random.randint(0, 10, size=10)\n",
    "print(arr_rand)"
   ]
  },
  {
   "cell_type": "code",
   "execution_count": 307,
   "metadata": {},
   "outputs": [
    {
     "name": "stdout",
     "output_type": "stream",
     "text": [
      "[0 2 3 4 5 7 8]\n",
      "[1 2 1 1 1 2 2]\n"
     ]
    }
   ],
   "source": [
    "# Get the unique items and their counts\n",
    "uniqs, counts = np.unique(arr_rand, return_counts=True)\n",
    "print(uniqs)\n",
    "print(counts)"
   ]
  }
 ],
 "metadata": {
  "kernelspec": {
   "display_name": "Python 3",
   "language": "python",
   "name": "python3"
  },
  "language_info": {
   "codemirror_mode": {
    "name": "ipython",
    "version": 3
   },
   "file_extension": ".py",
   "mimetype": "text/x-python",
   "name": "python",
   "nbconvert_exporter": "python",
   "pygments_lexer": "ipython3",
   "version": "3.6.5"
  }
 },
 "nbformat": 4,
 "nbformat_minor": 2
}
