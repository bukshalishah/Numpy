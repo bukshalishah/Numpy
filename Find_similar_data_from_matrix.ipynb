{
 "cells": [
  {
   "cell_type": "code",
   "execution_count": 262,
   "metadata": {},
   "outputs": [
    {
     "name": "stdout",
     "output_type": "stream",
     "text": [
      "4\n"
     ]
    }
   ],
   "source": [
    "# Find Similar data in 2d list\n",
    "\n",
    "list1 = [[1,2,3,4],[5,6,7,8],[1,1,1,2]]\n",
    "arr1 = np.array(list1, dtype=int)\n",
    "\n",
    "def find_same(list1, number):\n",
    "    l = list1.flatten()\n",
    "    ll = l.tolist()\n",
    "    lll = ll.count(number)\n",
    "    return(lll)\n",
    "\n",
    "x = find_same(arr1, 1)\n",
    "print(x)"
   ]
  },
  {
   "cell_type": "code",
   "execution_count": 260,
   "metadata": {},
   "outputs": [
    {
     "name": "stdout",
     "output_type": "stream",
     "text": [
      "6\n"
     ]
    }
   ],
   "source": [
    "# Find Similar data in 3d list\n",
    "\n",
    "list2 = [\n",
    "    [[1,2,3], [1,2,5], [1,2,5]],\n",
    "    [[8,3,1], [2,4,6], [2,1,5]],\n",
    "    [[1,9,3], [5,1,7], [7,3,7]],\n",
    "    [[2,8,4], [6,3,2], [2,6,8]],\n",
    "    [[2,0,0], [0,0,0], [1,0,1]]\n",
    "        ]\n",
    "arr2 = np.array(list2, dtype=int)\n",
    "\n",
    "def similarData(array, data):\n",
    "    To_flatten = array.flatten()\n",
    "    To_list = To_flatten.tolist()\n",
    "    To_count = To_list.count(data)\n",
    "    return To_count\n",
    "\n",
    "y = similarData(arr2, 0)\n",
    "print(y)"
   ]
  }
 ],
 "metadata": {
  "kernelspec": {
   "display_name": "Python 3",
   "language": "python",
   "name": "python3"
  },
  "language_info": {
   "codemirror_mode": {
    "name": "ipython",
    "version": 3
   },
   "file_extension": ".py",
   "mimetype": "text/x-python",
   "name": "python",
   "nbconvert_exporter": "python",
   "pygments_lexer": "ipython3",
   "version": "3.6.5"
  }
 },
 "nbformat": 4,
 "nbformat_minor": 2
}
